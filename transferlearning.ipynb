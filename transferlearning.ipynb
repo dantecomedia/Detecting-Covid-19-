{
  "nbformat": 4,
  "nbformat_minor": 0,
  "metadata": {
    "colab": {
      "name": "transferlearning.ipynb",
      "provenance": []
    },
    "kernelspec": {
      "name": "python3",
      "display_name": "Python 3"
    },
    "accelerator": "GPU"
  },
  "cells": [
    {
      "cell_type": "code",
      "metadata": {
        "id": "y02IALvRNuOx",
        "colab_type": "code",
        "colab": {
          "base_uri": "https://localhost:8080/",
          "height": 124
        },
        "outputId": "6ef1788a-971e-4f39-b46f-606151139903"
      },
      "source": [
        "from google.colab import drive\n",
        "drive.mount(\"/content/gdrive\")"
      ],
      "execution_count": 1,
      "outputs": [
        {
          "output_type": "stream",
          "text": [
            "Go to this URL in a browser: https://accounts.google.com/o/oauth2/auth?client_id=947318989803-6bn6qk8qdgf4n4g3pfee6491hc0brc4i.apps.googleusercontent.com&redirect_uri=urn%3aietf%3awg%3aoauth%3a2.0%3aoob&response_type=code&scope=email%20https%3a%2f%2fwww.googleapis.com%2fauth%2fdocs.test%20https%3a%2f%2fwww.googleapis.com%2fauth%2fdrive%20https%3a%2f%2fwww.googleapis.com%2fauth%2fdrive.photos.readonly%20https%3a%2f%2fwww.googleapis.com%2fauth%2fpeopleapi.readonly\n",
            "\n",
            "Enter your authorization code:\n",
            "··········\n",
            "Mounted at /content/gdrive\n"
          ],
          "name": "stdout"
        }
      ]
    },
    {
      "cell_type": "code",
      "metadata": {
        "id": "A2KMrB_MN4UQ",
        "colab_type": "code",
        "colab": {
          "base_uri": "https://localhost:8080/",
          "height": 1000
        },
        "outputId": "e9d5a7de-1162-44e5-dd72-4c04ae6dc685"
      },
      "source": [
        "!cp \"/content/gdrive/My Drive/Covid-19 Dataset/keras-covid-19.zip\" \"/content/\"\n",
        "!unzip keras-covid-19.zip -d \"/content/dataset\"\n",
        "!cp  -r \"/content/dataset/keras-covid-19/dataset\" \"/content/main/\"\n"
      ],
      "execution_count": 2,
      "outputs": [
        {
          "output_type": "stream",
          "text": [
            "Archive:  keras-covid-19.zip\n",
            "   creating: /content/dataset/keras-covid-19/\n",
            "  inflating: /content/dataset/keras-covid-19/build_covid_dataset.py  \n",
            "  inflating: /content/dataset/keras-covid-19/covid19.model  \n",
            "   creating: /content/dataset/keras-covid-19/dataset/\n",
            "   creating: /content/dataset/keras-covid-19/dataset/covid/\n",
            "  inflating: /content/dataset/keras-covid-19/dataset/covid/1-s2.0-S0140673620303706-fx1_lrg.jpg  \n",
            "  inflating: /content/dataset/keras-covid-19/dataset/covid/1-s2.0-S0929664620300449-gr2_lrg-a.jpg  \n",
            "  inflating: /content/dataset/keras-covid-19/dataset/covid/1-s2.0-S0929664620300449-gr2_lrg-b.jpg  \n",
            "  inflating: /content/dataset/keras-covid-19/dataset/covid/1-s2.0-S0929664620300449-gr2_lrg-c.jpg  \n",
            "  inflating: /content/dataset/keras-covid-19/dataset/covid/1-s2.0-S0929664620300449-gr2_lrg-d.jpg  \n",
            "  inflating: /content/dataset/keras-covid-19/dataset/covid/auntminnie-a-2020_01_28_23_51_6665_2020_01_28_Vietnam_coronavirus.jpeg  \n",
            "  inflating: /content/dataset/keras-covid-19/dataset/covid/auntminnie-b-2020_01_28_23_51_6665_2020_01_28_Vietnam_coronavirus.jpeg  \n",
            "  inflating: /content/dataset/keras-covid-19/dataset/covid/auntminnie-c-2020_01_28_23_51_6665_2020_01_28_Vietnam_coronavirus.jpeg  \n",
            "  inflating: /content/dataset/keras-covid-19/dataset/covid/auntminnie-d-2020_01_28_23_51_6665_2020_01_28_Vietnam_coronavirus.jpeg  \n",
            "  inflating: /content/dataset/keras-covid-19/dataset/covid/lancet-case2a.jpg  \n",
            "  inflating: /content/dataset/keras-covid-19/dataset/covid/lancet-case2b.jpg  \n",
            "  inflating: /content/dataset/keras-covid-19/dataset/covid/nCoV-radiol.2020200269.fig1-day7.jpeg  \n",
            "  inflating: /content/dataset/keras-covid-19/dataset/covid/nejmc2001573_f1a.jpeg  \n",
            "  inflating: /content/dataset/keras-covid-19/dataset/covid/nejmc2001573_f1b.jpeg  \n",
            "  inflating: /content/dataset/keras-covid-19/dataset/covid/nejmoa2001191_f1-PA.jpeg  \n",
            "  inflating: /content/dataset/keras-covid-19/dataset/covid/nejmoa2001191_f3-PA.jpeg  \n",
            "  inflating: /content/dataset/keras-covid-19/dataset/covid/nejmoa2001191_f4.jpeg  \n",
            "  inflating: /content/dataset/keras-covid-19/dataset/covid/nejmoa2001191_f5-PA.jpeg  \n",
            "  inflating: /content/dataset/keras-covid-19/dataset/covid/radiol.2020200490.fig3.jpeg  \n",
            "  inflating: /content/dataset/keras-covid-19/dataset/covid/radiopedia-covid-19-pneumonia-2.jpg  \n",
            "  inflating: /content/dataset/keras-covid-19/dataset/covid/ryct.2020200028.fig1a.jpeg  \n",
            "  inflating: /content/dataset/keras-covid-19/dataset/covid/ryct.2020200034.fig2.jpeg  \n",
            "  inflating: /content/dataset/keras-covid-19/dataset/covid/ryct.2020200034.fig5-day0.jpeg  \n",
            "  inflating: /content/dataset/keras-covid-19/dataset/covid/ryct.2020200034.fig5-day4.jpeg  \n",
            "  inflating: /content/dataset/keras-covid-19/dataset/covid/ryct.2020200034.fig5-day7.jpeg  \n",
            "   creating: /content/dataset/keras-covid-19/dataset/normal/\n",
            "  inflating: /content/dataset/keras-covid-19/dataset/normal/IM-0033-0001-0001.jpeg  \n",
            "  inflating: /content/dataset/keras-covid-19/dataset/normal/IM-0240-0001.jpeg  \n",
            "  inflating: /content/dataset/keras-covid-19/dataset/normal/IM-0466-0001.jpeg  \n",
            "  inflating: /content/dataset/keras-covid-19/dataset/normal/NORMAL2-IM-0315-0001.jpeg  \n",
            "  inflating: /content/dataset/keras-covid-19/dataset/normal/NORMAL2-IM-0696-0001.jpeg  \n",
            "  inflating: /content/dataset/keras-covid-19/dataset/normal/NORMAL2-IM-0869-0001.jpeg  \n",
            "  inflating: /content/dataset/keras-covid-19/dataset/normal/NORMAL2-IM-1179-0001.jpeg  \n",
            "  inflating: /content/dataset/keras-covid-19/dataset/normal/person1102_bacteria_3043.jpeg  \n",
            "  inflating: /content/dataset/keras-covid-19/dataset/normal/person1290_virus_2215.jpeg  \n",
            "  inflating: /content/dataset/keras-covid-19/dataset/normal/person1558_bacteria_4066.jpeg  \n",
            "  inflating: /content/dataset/keras-covid-19/dataset/normal/person1599_virus_2776.jpeg  \n",
            "  inflating: /content/dataset/keras-covid-19/dataset/normal/person1830_bacteria_4693.jpeg  \n",
            "  inflating: /content/dataset/keras-covid-19/dataset/normal/person1935_bacteria_4849.jpeg  \n",
            "  inflating: /content/dataset/keras-covid-19/dataset/normal/person1_bacteria_2.jpeg  \n",
            "  inflating: /content/dataset/keras-covid-19/dataset/normal/person259_bacteria_1220.jpeg  \n",
            "  inflating: /content/dataset/keras-covid-19/dataset/normal/person339_bacteria_1574.jpeg  \n",
            "  inflating: /content/dataset/keras-covid-19/dataset/normal/person378_virus_761.jpeg  \n",
            "  inflating: /content/dataset/keras-covid-19/dataset/normal/person438_bacteria_1893.jpeg  \n",
            "  inflating: /content/dataset/keras-covid-19/dataset/normal/person525_bacteria_2216.jpeg  \n",
            "  inflating: /content/dataset/keras-covid-19/dataset/normal/person612_bacteria_2478.jpeg  \n",
            "  inflating: /content/dataset/keras-covid-19/dataset/normal/person651_bacteria_2543.jpeg  \n",
            "  inflating: /content/dataset/keras-covid-19/dataset/normal/person925_virus_1582.jpeg  \n",
            "  inflating: /content/dataset/keras-covid-19/dataset/normal/person934_virus_1595.jpeg  \n",
            "  inflating: /content/dataset/keras-covid-19/dataset/normal/person939_bacteria_2864.jpeg  \n",
            "  inflating: /content/dataset/keras-covid-19/dataset/normal/person989_virus_1667.jpeg  \n",
            "  inflating: /content/dataset/keras-covid-19/plot.png  \n",
            "  inflating: /content/dataset/keras-covid-19/sample_kaggle_dataset.py  \n",
            "  inflating: /content/dataset/keras-covid-19/train_covid19.py  \n"
          ],
          "name": "stdout"
        }
      ]
    },
    {
      "cell_type": "code",
      "metadata": {
        "id": "sTroMzw0ORcm",
        "colab_type": "code",
        "colab": {}
      },
      "source": [
        "import os"
      ],
      "execution_count": 0,
      "outputs": []
    },
    {
      "cell_type": "code",
      "metadata": {
        "id": "jBsrpkmCOLwj",
        "colab_type": "code",
        "colab": {}
      },
      "source": [
        "covid_infected=os.listdir(\"/content/main/covid\")\n",
        "normal_lungs=os.listdir(\"/content/main/normal\")\n"
      ],
      "execution_count": 0,
      "outputs": []
    },
    {
      "cell_type": "code",
      "metadata": {
        "id": "vUBakG-uOOxs",
        "colab_type": "code",
        "colab": {}
      },
      "source": [
        "import pandas as pd\n",
        "import numpy as np\n",
        "import os\n",
        "import keras\n",
        "import matplotlib.pyplot as plt\n",
        "from keras.layers import Dense,GlobalAveragePooling2D\n",
        "from keras.applications import MobileNet\n",
        "from keras.preprocessing import image\n",
        "from keras.applications.mobilenet import preprocess_input\n",
        "from keras.preprocessing.image import ImageDataGenerator\n",
        "from keras.models import Model\n",
        "from keras.optimizers import Adam\n",
        "from sklearn.metrics import classification_report\n",
        "from sklearn.metrics import accuracy_score,confusion_matrix"
      ],
      "execution_count": 0,
      "outputs": []
    },
    {
      "cell_type": "code",
      "metadata": {
        "id": "QU2tXPdtOcoz",
        "colab_type": "code",
        "colab": {
          "base_uri": "https://localhost:8080/",
          "height": 72
        },
        "outputId": "2a74c591-ea7f-405e-cb0a-0cf601de3d2a"
      },
      "source": [
        "base_model=MobileNet(weights='imagenet',include_top=False) #imports the mobilenet model and discards the last 1000 neuron layer.\n",
        "\n",
        "x=base_model.output\n",
        "x=GlobalAveragePooling2D()(x)\n",
        "x=Dense(1024,activation='relu')(x) #we add dense layers so that the model can learn more complex functions and classify for better results.\n",
        "x=Dense(1024,activation='relu')(x) #dense layer 2\n",
        "x=Dense(512,activation='relu')(x) #dense layer 3\n",
        "preds=Dense(2,activation='softmax')(x)"
      ],
      "execution_count": 14,
      "outputs": [
        {
          "output_type": "stream",
          "text": [
            "/usr/local/lib/python3.6/dist-packages/keras_applications/mobilenet.py:207: UserWarning: `input_shape` is undefined or non-square, or `rows` is not in [128, 160, 192, 224]. Weights for input shape (224, 224) will be loaded as the default.\n",
            "  warnings.warn('`input_shape` is undefined or non-square, '\n"
          ],
          "name": "stderr"
        }
      ]
    },
    {
      "cell_type": "code",
      "metadata": {
        "id": "axDH4HdyOf6u",
        "colab_type": "code",
        "colab": {}
      },
      "source": [
        "model=Model(inputs=base_model.input,outputs=preds)\n"
      ],
      "execution_count": 0,
      "outputs": []
    },
    {
      "cell_type": "code",
      "metadata": {
        "id": "iL7hmM45Oj1G",
        "colab_type": "code",
        "colab": {}
      },
      "source": [
        "for layer in model.layers[:20]:\n",
        "    layer.trainable=False\n",
        "for layer in model.layers[20:]:\n",
        "    layer.trainable=True"
      ],
      "execution_count": 0,
      "outputs": []
    },
    {
      "cell_type": "code",
      "metadata": {
        "id": "FC_KNqtsO13W",
        "colab_type": "code",
        "colab": {
          "base_uri": "https://localhost:8080/",
          "height": 1000
        },
        "outputId": "31002406-95f0-4773-c9c6-e4b21b9dbabf"
      },
      "source": [
        "model.summary()"
      ],
      "execution_count": 20,
      "outputs": [
        {
          "output_type": "stream",
          "text": [
            "Model: \"model_2\"\n",
            "_________________________________________________________________\n",
            "Layer (type)                 Output Shape              Param #   \n",
            "=================================================================\n",
            "input_2 (InputLayer)         (None, None, None, 3)     0         \n",
            "_________________________________________________________________\n",
            "conv1_pad (ZeroPadding2D)    (None, None, None, 3)     0         \n",
            "_________________________________________________________________\n",
            "conv1 (Conv2D)               (None, None, None, 32)    864       \n",
            "_________________________________________________________________\n",
            "conv1_bn (BatchNormalization (None, None, None, 32)    128       \n",
            "_________________________________________________________________\n",
            "conv1_relu (ReLU)            (None, None, None, 32)    0         \n",
            "_________________________________________________________________\n",
            "conv_dw_1 (DepthwiseConv2D)  (None, None, None, 32)    288       \n",
            "_________________________________________________________________\n",
            "conv_dw_1_bn (BatchNormaliza (None, None, None, 32)    128       \n",
            "_________________________________________________________________\n",
            "conv_dw_1_relu (ReLU)        (None, None, None, 32)    0         \n",
            "_________________________________________________________________\n",
            "conv_pw_1 (Conv2D)           (None, None, None, 64)    2048      \n",
            "_________________________________________________________________\n",
            "conv_pw_1_bn (BatchNormaliza (None, None, None, 64)    256       \n",
            "_________________________________________________________________\n",
            "conv_pw_1_relu (ReLU)        (None, None, None, 64)    0         \n",
            "_________________________________________________________________\n",
            "conv_pad_2 (ZeroPadding2D)   (None, None, None, 64)    0         \n",
            "_________________________________________________________________\n",
            "conv_dw_2 (DepthwiseConv2D)  (None, None, None, 64)    576       \n",
            "_________________________________________________________________\n",
            "conv_dw_2_bn (BatchNormaliza (None, None, None, 64)    256       \n",
            "_________________________________________________________________\n",
            "conv_dw_2_relu (ReLU)        (None, None, None, 64)    0         \n",
            "_________________________________________________________________\n",
            "conv_pw_2 (Conv2D)           (None, None, None, 128)   8192      \n",
            "_________________________________________________________________\n",
            "conv_pw_2_bn (BatchNormaliza (None, None, None, 128)   512       \n",
            "_________________________________________________________________\n",
            "conv_pw_2_relu (ReLU)        (None, None, None, 128)   0         \n",
            "_________________________________________________________________\n",
            "conv_dw_3 (DepthwiseConv2D)  (None, None, None, 128)   1152      \n",
            "_________________________________________________________________\n",
            "conv_dw_3_bn (BatchNormaliza (None, None, None, 128)   512       \n",
            "_________________________________________________________________\n",
            "conv_dw_3_relu (ReLU)        (None, None, None, 128)   0         \n",
            "_________________________________________________________________\n",
            "conv_pw_3 (Conv2D)           (None, None, None, 128)   16384     \n",
            "_________________________________________________________________\n",
            "conv_pw_3_bn (BatchNormaliza (None, None, None, 128)   512       \n",
            "_________________________________________________________________\n",
            "conv_pw_3_relu (ReLU)        (None, None, None, 128)   0         \n",
            "_________________________________________________________________\n",
            "conv_pad_4 (ZeroPadding2D)   (None, None, None, 128)   0         \n",
            "_________________________________________________________________\n",
            "conv_dw_4 (DepthwiseConv2D)  (None, None, None, 128)   1152      \n",
            "_________________________________________________________________\n",
            "conv_dw_4_bn (BatchNormaliza (None, None, None, 128)   512       \n",
            "_________________________________________________________________\n",
            "conv_dw_4_relu (ReLU)        (None, None, None, 128)   0         \n",
            "_________________________________________________________________\n",
            "conv_pw_4 (Conv2D)           (None, None, None, 256)   32768     \n",
            "_________________________________________________________________\n",
            "conv_pw_4_bn (BatchNormaliza (None, None, None, 256)   1024      \n",
            "_________________________________________________________________\n",
            "conv_pw_4_relu (ReLU)        (None, None, None, 256)   0         \n",
            "_________________________________________________________________\n",
            "conv_dw_5 (DepthwiseConv2D)  (None, None, None, 256)   2304      \n",
            "_________________________________________________________________\n",
            "conv_dw_5_bn (BatchNormaliza (None, None, None, 256)   1024      \n",
            "_________________________________________________________________\n",
            "conv_dw_5_relu (ReLU)        (None, None, None, 256)   0         \n",
            "_________________________________________________________________\n",
            "conv_pw_5 (Conv2D)           (None, None, None, 256)   65536     \n",
            "_________________________________________________________________\n",
            "conv_pw_5_bn (BatchNormaliza (None, None, None, 256)   1024      \n",
            "_________________________________________________________________\n",
            "conv_pw_5_relu (ReLU)        (None, None, None, 256)   0         \n",
            "_________________________________________________________________\n",
            "conv_pad_6 (ZeroPadding2D)   (None, None, None, 256)   0         \n",
            "_________________________________________________________________\n",
            "conv_dw_6 (DepthwiseConv2D)  (None, None, None, 256)   2304      \n",
            "_________________________________________________________________\n",
            "conv_dw_6_bn (BatchNormaliza (None, None, None, 256)   1024      \n",
            "_________________________________________________________________\n",
            "conv_dw_6_relu (ReLU)        (None, None, None, 256)   0         \n",
            "_________________________________________________________________\n",
            "conv_pw_6 (Conv2D)           (None, None, None, 512)   131072    \n",
            "_________________________________________________________________\n",
            "conv_pw_6_bn (BatchNormaliza (None, None, None, 512)   2048      \n",
            "_________________________________________________________________\n",
            "conv_pw_6_relu (ReLU)        (None, None, None, 512)   0         \n",
            "_________________________________________________________________\n",
            "conv_dw_7 (DepthwiseConv2D)  (None, None, None, 512)   4608      \n",
            "_________________________________________________________________\n",
            "conv_dw_7_bn (BatchNormaliza (None, None, None, 512)   2048      \n",
            "_________________________________________________________________\n",
            "conv_dw_7_relu (ReLU)        (None, None, None, 512)   0         \n",
            "_________________________________________________________________\n",
            "conv_pw_7 (Conv2D)           (None, None, None, 512)   262144    \n",
            "_________________________________________________________________\n",
            "conv_pw_7_bn (BatchNormaliza (None, None, None, 512)   2048      \n",
            "_________________________________________________________________\n",
            "conv_pw_7_relu (ReLU)        (None, None, None, 512)   0         \n",
            "_________________________________________________________________\n",
            "conv_dw_8 (DepthwiseConv2D)  (None, None, None, 512)   4608      \n",
            "_________________________________________________________________\n",
            "conv_dw_8_bn (BatchNormaliza (None, None, None, 512)   2048      \n",
            "_________________________________________________________________\n",
            "conv_dw_8_relu (ReLU)        (None, None, None, 512)   0         \n",
            "_________________________________________________________________\n",
            "conv_pw_8 (Conv2D)           (None, None, None, 512)   262144    \n",
            "_________________________________________________________________\n",
            "conv_pw_8_bn (BatchNormaliza (None, None, None, 512)   2048      \n",
            "_________________________________________________________________\n",
            "conv_pw_8_relu (ReLU)        (None, None, None, 512)   0         \n",
            "_________________________________________________________________\n",
            "conv_dw_9 (DepthwiseConv2D)  (None, None, None, 512)   4608      \n",
            "_________________________________________________________________\n",
            "conv_dw_9_bn (BatchNormaliza (None, None, None, 512)   2048      \n",
            "_________________________________________________________________\n",
            "conv_dw_9_relu (ReLU)        (None, None, None, 512)   0         \n",
            "_________________________________________________________________\n",
            "conv_pw_9 (Conv2D)           (None, None, None, 512)   262144    \n",
            "_________________________________________________________________\n",
            "conv_pw_9_bn (BatchNormaliza (None, None, None, 512)   2048      \n",
            "_________________________________________________________________\n",
            "conv_pw_9_relu (ReLU)        (None, None, None, 512)   0         \n",
            "_________________________________________________________________\n",
            "conv_dw_10 (DepthwiseConv2D) (None, None, None, 512)   4608      \n",
            "_________________________________________________________________\n",
            "conv_dw_10_bn (BatchNormaliz (None, None, None, 512)   2048      \n",
            "_________________________________________________________________\n",
            "conv_dw_10_relu (ReLU)       (None, None, None, 512)   0         \n",
            "_________________________________________________________________\n",
            "conv_pw_10 (Conv2D)          (None, None, None, 512)   262144    \n",
            "_________________________________________________________________\n",
            "conv_pw_10_bn (BatchNormaliz (None, None, None, 512)   2048      \n",
            "_________________________________________________________________\n",
            "conv_pw_10_relu (ReLU)       (None, None, None, 512)   0         \n",
            "_________________________________________________________________\n",
            "conv_dw_11 (DepthwiseConv2D) (None, None, None, 512)   4608      \n",
            "_________________________________________________________________\n",
            "conv_dw_11_bn (BatchNormaliz (None, None, None, 512)   2048      \n",
            "_________________________________________________________________\n",
            "conv_dw_11_relu (ReLU)       (None, None, None, 512)   0         \n",
            "_________________________________________________________________\n",
            "conv_pw_11 (Conv2D)          (None, None, None, 512)   262144    \n",
            "_________________________________________________________________\n",
            "conv_pw_11_bn (BatchNormaliz (None, None, None, 512)   2048      \n",
            "_________________________________________________________________\n",
            "conv_pw_11_relu (ReLU)       (None, None, None, 512)   0         \n",
            "_________________________________________________________________\n",
            "conv_pad_12 (ZeroPadding2D)  (None, None, None, 512)   0         \n",
            "_________________________________________________________________\n",
            "conv_dw_12 (DepthwiseConv2D) (None, None, None, 512)   4608      \n",
            "_________________________________________________________________\n",
            "conv_dw_12_bn (BatchNormaliz (None, None, None, 512)   2048      \n",
            "_________________________________________________________________\n",
            "conv_dw_12_relu (ReLU)       (None, None, None, 512)   0         \n",
            "_________________________________________________________________\n",
            "conv_pw_12 (Conv2D)          (None, None, None, 1024)  524288    \n",
            "_________________________________________________________________\n",
            "conv_pw_12_bn (BatchNormaliz (None, None, None, 1024)  4096      \n",
            "_________________________________________________________________\n",
            "conv_pw_12_relu (ReLU)       (None, None, None, 1024)  0         \n",
            "_________________________________________________________________\n",
            "conv_dw_13 (DepthwiseConv2D) (None, None, None, 1024)  9216      \n",
            "_________________________________________________________________\n",
            "conv_dw_13_bn (BatchNormaliz (None, None, None, 1024)  4096      \n",
            "_________________________________________________________________\n",
            "conv_dw_13_relu (ReLU)       (None, None, None, 1024)  0         \n",
            "_________________________________________________________________\n",
            "conv_pw_13 (Conv2D)          (None, None, None, 1024)  1048576   \n",
            "_________________________________________________________________\n",
            "conv_pw_13_bn (BatchNormaliz (None, None, None, 1024)  4096      \n",
            "_________________________________________________________________\n",
            "conv_pw_13_relu (ReLU)       (None, None, None, 1024)  0         \n",
            "_________________________________________________________________\n",
            "global_average_pooling2d_2 ( (None, 1024)              0         \n",
            "_________________________________________________________________\n",
            "dense_5 (Dense)              (None, 1024)              1049600   \n",
            "_________________________________________________________________\n",
            "dense_6 (Dense)              (None, 1024)              1049600   \n",
            "_________________________________________________________________\n",
            "dense_7 (Dense)              (None, 512)               524800    \n",
            "_________________________________________________________________\n",
            "dense_8 (Dense)              (None, 2)                 1026      \n",
            "=================================================================\n",
            "Total params: 5,853,890\n",
            "Trainable params: 5,817,986\n",
            "Non-trainable params: 35,904\n",
            "_________________________________________________________________\n"
          ],
          "name": "stdout"
        }
      ]
    },
    {
      "cell_type": "code",
      "metadata": {
        "id": "xa6QjQWzOn45",
        "colab_type": "code",
        "colab": {
          "base_uri": "https://localhost:8080/",
          "height": 52
        },
        "outputId": "be53a8ee-2568-443f-b24c-bfe94553a329"
      },
      "source": [
        "train_datagen=ImageDataGenerator(preprocessing_function=preprocess_input) #included in our dependencies\n",
        "test_datagen=ImageDataGenerator(preprocessing_function=preprocess_input)\n",
        "train_generator=train_datagen.flow_from_directory('./main/', # this is where you specify the path to the main data folder\n",
        "                                                 target_size=(224,224),\n",
        "                                                 color_mode='rgb',\n",
        "                                                 batch_size=32,\n",
        "                                                 class_mode='categorical',\n",
        "                                                 shuffle=True)\n",
        "\n",
        "test_generator=test_datagen.flow_from_directory('./test/', # this is where you specify the path to the main data folder\n",
        "                                                 target_size=(224,224),\n",
        "                                                 color_mode='rgb',\n",
        "                                                 batch_size=32,\n",
        "                                                 class_mode='categorical',\n",
        "                                                 shuffle=True)\n"
      ],
      "execution_count": 29,
      "outputs": [
        {
          "output_type": "stream",
          "text": [
            "Found 40 images belonging to 2 classes.\n",
            "Found 10 images belonging to 2 classes.\n"
          ],
          "name": "stdout"
        }
      ]
    },
    {
      "cell_type": "code",
      "metadata": {
        "id": "X3-vJ1l-Oucs",
        "colab_type": "code",
        "colab": {
          "base_uri": "https://localhost:8080/",
          "height": 1000
        },
        "outputId": "7d9053b8-88e6-48b5-db63-8ed40c6c0bb9"
      },
      "source": [
        "model.compile(optimizer='Adam',loss='categorical_crossentropy',metrics=['accuracy'])\n",
        "step_size_train=train_generator.n//train_generator.batch_size\n",
        "history = model.fit_generator(generator=train_generator,\n",
        "                   steps_per_epoch=step_size_train,\n",
        "                   validation_data=test_generator,\n",
        "                   epochs=30)"
      ],
      "execution_count": 40,
      "outputs": [
        {
          "output_type": "stream",
          "text": [
            "Epoch 1/30\n",
            "1/1 [==============================] - 5s 5s/step - loss: 0.0259 - accuracy: 1.0000 - val_loss: 0.4435 - val_accuracy: 0.9000\n",
            "Epoch 2/30\n",
            "1/1 [==============================] - 0s 297ms/step - loss: 0.0070 - accuracy: 1.0000 - val_loss: 1.1616e-04 - val_accuracy: 1.0000\n",
            "Epoch 3/30\n",
            "1/1 [==============================] - 0s 422ms/step - loss: 1.0431e-07 - accuracy: 1.0000 - val_loss: 3.1113e-06 - val_accuracy: 1.0000\n",
            "Epoch 4/30\n",
            "1/1 [==============================] - 1s 745ms/step - loss: 5.3765e-04 - accuracy: 1.0000 - val_loss: 0.1678 - val_accuracy: 0.9000\n",
            "Epoch 5/30\n",
            "1/1 [==============================] - 0s 489ms/step - loss: 0.3125 - accuracy: 0.8750 - val_loss: 0.1313 - val_accuracy: 0.9000\n",
            "Epoch 6/30\n",
            "1/1 [==============================] - 1s 684ms/step - loss: 1.2020e-04 - accuracy: 1.0000 - val_loss: 0.0441 - val_accuracy: 1.0000\n",
            "Epoch 7/30\n",
            "1/1 [==============================] - 1s 513ms/step - loss: 2.2330 - accuracy: 0.7500 - val_loss: 3.7950 - val_accuracy: 0.9000\n",
            "Epoch 8/30\n",
            "1/1 [==============================] - 1s 670ms/step - loss: 0.0000e+00 - accuracy: 1.0000 - val_loss: 5.6511 - val_accuracy: 0.9000\n",
            "Epoch 9/30\n",
            "1/1 [==============================] - 1s 502ms/step - loss: 8.1956e-07 - accuracy: 1.0000 - val_loss: 6.7142 - val_accuracy: 0.8000\n",
            "Epoch 10/30\n",
            "1/1 [==============================] - 1s 665ms/step - loss: 2.7595e-04 - accuracy: 1.0000 - val_loss: 7.7535 - val_accuracy: 0.8000\n",
            "Epoch 11/30\n",
            "1/1 [==============================] - 0s 474ms/step - loss: 0.5875 - accuracy: 0.8750 - val_loss: 7.5953 - val_accuracy: 0.7000\n",
            "Epoch 12/30\n",
            "1/1 [==============================] - 1s 681ms/step - loss: 0.0136 - accuracy: 1.0000 - val_loss: 6.6793 - val_accuracy: 0.7000\n",
            "Epoch 13/30\n",
            "1/1 [==============================] - 0s 461ms/step - loss: 7.0789e-04 - accuracy: 1.0000 - val_loss: 5.3968 - val_accuracy: 0.7000\n",
            "Epoch 14/30\n",
            "1/1 [==============================] - 1s 736ms/step - loss: 0.0953 - accuracy: 0.9375 - val_loss: 5.0863 - val_accuracy: 0.7000\n",
            "Epoch 15/30\n",
            "1/1 [==============================] - 1s 819ms/step - loss: 0.0326 - accuracy: 1.0000 - val_loss: 5.0624 - val_accuracy: 0.7000\n",
            "Epoch 16/30\n",
            "1/1 [==============================] - 0s 448ms/step - loss: 2.4064e-05 - accuracy: 1.0000 - val_loss: 5.1161 - val_accuracy: 0.6000\n",
            "Epoch 17/30\n",
            "1/1 [==============================] - 0s 484ms/step - loss: 4.7188 - accuracy: 0.6250 - val_loss: 6.8921 - val_accuracy: 0.6000\n",
            "Epoch 18/30\n",
            "1/1 [==============================] - 1s 637ms/step - loss: 0.0032 - accuracy: 1.0000 - val_loss: 8.4410 - val_accuracy: 0.6000\n",
            "Epoch 19/30\n",
            "1/1 [==============================] - 1s 515ms/step - loss: 0.0033 - accuracy: 1.0000 - val_loss: 9.9735 - val_accuracy: 0.5000\n",
            "Epoch 20/30\n",
            "1/1 [==============================] - 1s 636ms/step - loss: 0.0026 - accuracy: 1.0000 - val_loss: 11.3707 - val_accuracy: 0.5000\n",
            "Epoch 21/30\n",
            "1/1 [==============================] - 0s 480ms/step - loss: 0.0012 - accuracy: 1.0000 - val_loss: 12.8615 - val_accuracy: 0.5000\n",
            "Epoch 22/30\n",
            "1/1 [==============================] - 1s 703ms/step - loss: 0.0034 - accuracy: 1.0000 - val_loss: 14.2865 - val_accuracy: 0.5000\n",
            "Epoch 23/30\n",
            "1/1 [==============================] - 0s 439ms/step - loss: 0.0050 - accuracy: 1.0000 - val_loss: 16.1389 - val_accuracy: 0.5000\n",
            "Epoch 24/30\n",
            "1/1 [==============================] - 1s 772ms/step - loss: 0.0118 - accuracy: 1.0000 - val_loss: 17.8101 - val_accuracy: 0.5000\n",
            "Epoch 25/30\n",
            "1/1 [==============================] - 1s 519ms/step - loss: 0.1189 - accuracy: 0.8750 - val_loss: 18.9115 - val_accuracy: 0.5000\n",
            "Epoch 26/30\n",
            "1/1 [==============================] - 1s 654ms/step - loss: 0.0063 - accuracy: 1.0000 - val_loss: 19.7780 - val_accuracy: 0.5000\n",
            "Epoch 27/30\n",
            "1/1 [==============================] - 1s 878ms/step - loss: 0.0112 - accuracy: 1.0000 - val_loss: 20.5120 - val_accuracy: 0.5000\n",
            "Epoch 28/30\n",
            "1/1 [==============================] - 0s 452ms/step - loss: 1.9892e-04 - accuracy: 1.0000 - val_loss: 20.9841 - val_accuracy: 0.5000\n",
            "Epoch 29/30\n",
            "1/1 [==============================] - 0s 473ms/step - loss: 0.0976 - accuracy: 1.0000 - val_loss: 20.9232 - val_accuracy: 0.5000\n",
            "Epoch 30/30\n",
            "1/1 [==============================] - 1s 614ms/step - loss: 1.3281e-04 - accuracy: 1.0000 - val_loss: 20.6676 - val_accuracy: 0.5000\n"
          ],
          "name": "stdout"
        }
      ]
    },
    {
      "cell_type": "code",
      "metadata": {
        "id": "54P90YBLPCbO",
        "colab_type": "code",
        "colab": {}
      },
      "source": [
        "Y_pred = model.predict_generator(test_generator)\n",
        "y_pred = np.argmax(Y_pred, axis=1)"
      ],
      "execution_count": 0,
      "outputs": []
    },
    {
      "cell_type": "code",
      "metadata": {
        "id": "cfJF6ILMYsrj",
        "colab_type": "code",
        "colab": {
          "base_uri": "https://localhost:8080/",
          "height": 34
        },
        "outputId": "b9e75f24-71d1-494b-e51a-d1744cae4ba3"
      },
      "source": [
        "y_pred"
      ],
      "execution_count": 52,
      "outputs": [
        {
          "output_type": "execute_result",
          "data": {
            "text/plain": [
              "array([1, 1, 1, 1, 1, 1, 1, 1, 1, 1])"
            ]
          },
          "metadata": {
            "tags": []
          },
          "execution_count": 52
        }
      ]
    },
    {
      "cell_type": "code",
      "metadata": {
        "id": "eck9iVTvXCe_",
        "colab_type": "code",
        "colab": {
          "base_uri": "https://localhost:8080/",
          "height": 280
        },
        "outputId": "0328a006-ba9b-407c-a9f8-f8e128b4ec5e"
      },
      "source": [
        "print('Confusion Matrix')\n",
        "print(confusion_matrix(test_generator.classes, y_pred))\n",
        "print('Classification Report', classification_report(test_generator.classes,y_pred))"
      ],
      "execution_count": 54,
      "outputs": [
        {
          "output_type": "stream",
          "text": [
            "Confusion Matrix\n",
            "[[0 5]\n",
            " [0 5]]\n",
            "Classification Report               precision    recall  f1-score   support\n",
            "\n",
            "           0       0.00      0.00      0.00         5\n",
            "           1       0.50      1.00      0.67         5\n",
            "\n",
            "    accuracy                           0.50        10\n",
            "   macro avg       0.25      0.50      0.33        10\n",
            "weighted avg       0.25      0.50      0.33        10\n",
            "\n"
          ],
          "name": "stdout"
        },
        {
          "output_type": "stream",
          "text": [
            "/usr/local/lib/python3.6/dist-packages/sklearn/metrics/_classification.py:1272: UndefinedMetricWarning: Precision and F-score are ill-defined and being set to 0.0 in labels with no predicted samples. Use `zero_division` parameter to control this behavior.\n",
            "  _warn_prf(average, modifier, msg_start, len(result))\n"
          ],
          "name": "stderr"
        }
      ]
    },
    {
      "cell_type": "code",
      "metadata": {
        "id": "WS4x2GNcTXjl",
        "colab_type": "code",
        "colab": {
          "base_uri": "https://localhost:8080/",
          "height": 822
        },
        "outputId": "d3c0d9b3-779d-450e-cd25-48d04a9f625f"
      },
      "source": [
        "\n",
        "# Loss Curves\n",
        "plt.figure(figsize=[8,6])\n",
        "plt.plot(history.history['loss'],'r',linewidth=3.0)\n",
        "plt.plot(history.history['val_loss'],'b',linewidth=3.0)\n",
        "plt.legend(['Training loss', 'Validation Loss'],fontsize=18)\n",
        "plt.xlabel('Epochs ',fontsize=16)\n",
        "plt.ylabel('Loss',fontsize=16)\n",
        "plt.title('Loss Curves',fontsize=16)\n",
        "\n",
        "# Accuracy Curves\n",
        "plt.figure(figsize=[8,6])\n",
        "plt.plot(history.history['accuracy'],'r',linewidth=3.0)\n",
        "plt.plot(history.history['val_accuracy'],'b',linewidth=3.0)\n",
        "plt.legend(['Training Accuracy', 'Validation Accuracy'],fontsize=18)\n",
        "plt.xlabel('Epochs ',fontsize=16)\n",
        "plt.ylabel('Accuracy',fontsize=16)\n",
        "plt.title('Accuracy Curves',fontsize=16)"
      ],
      "execution_count": 55,
      "outputs": [
        {
          "output_type": "execute_result",
          "data": {
            "text/plain": [
              "Text(0.5, 1.0, 'Accuracy Curves')"
            ]
          },
          "metadata": {
            "tags": []
          },
          "execution_count": 55
        },
        {
          "output_type": "display_data",
          "data": {
            "image/png": "[encoded data removed]",
            "text/plain": [
              "<Figure size 576x432 with 1 Axes>"
            ]
          },
          "metadata": {
            "tags": [],
            "needs_background": "light"
          }
        },
        {
          "output_type": "display_data",
          "data": {
            "image/png": "[encoded data removed]",
            "text/plain": [
              "<Figure size 576x432 with 1 Axes>"
            ]
          },
          "metadata": {
            "tags": [],
            "needs_background": "light"
          }
        }
      ]
    },
    {
      "cell_type": "code",
      "metadata": {
        "id": "92IYI5cIZGDz",
        "colab_type": "code",
        "colab": {}
      },
      "source": [
        "model.save(\"transfer_learning.h5\")"
      ],
      "execution_count": 0,
      "outputs": []
    },
    {
      "cell_type": "code",
      "metadata": {
        "id": "md8Hb64Eb8_Q",
        "colab_type": "code",
        "colab": {}
      },
      "source": [
        "!cp \"/content/transfer_learning.h5\" \"/content/gdrive/My Drive/covid/\""
      ],
      "execution_count": 0,
      "outputs": []
    },
    {
      "cell_type": "code",
      "metadata": {
        "id": "zxvFiao0cLpV",
        "colab_type": "code",
        "colab": {}
      },
      "source": [
        ""
      ],
      "execution_count": 0,
      "outputs": []
    }
  ]
}